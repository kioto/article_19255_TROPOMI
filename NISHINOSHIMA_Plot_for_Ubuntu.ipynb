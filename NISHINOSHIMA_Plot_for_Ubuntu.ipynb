{
 "cells": [
  {
   "cell_type": "markdown",
   "metadata": {},
   "source": [
    "## 必要なライブラリのimport"
   ]
  },
  {
   "cell_type": "code",
   "execution_count": null,
   "metadata": {},
   "outputs": [],
   "source": [
    "# 外部パッケージのインストール\n",
    "# !pip3 install netcdf4 \n",
    "# !pip3 install --user https://github.com/matplotlib/basemap/archive/master.zip\n",
    "\n",
    "import csv\n",
    "import re\n",
    "from pathlib import Path\n",
    "import conv_NC4files as cnc\n",
    "import pandas as pd\n",
    "import numpy as np"
   ]
  },
  {
   "cell_type": "markdown",
   "metadata": {},
   "source": [
    "## ディレクトリの設定\n",
    "\n",
    "動作確認のncファイルは\n",
    "\n",
    "`S5P_OFFL_L2__SO2____20190806T022006_20190806T040136_09388_01_010107_20190812T122912.nc`\n",
    "\n",
    "を使用した。"
   ]
  },
  {
   "cell_type": "code",
   "execution_count": null,
   "metadata": {},
   "outputs": [],
   "source": [
    "# 設定\n",
    "INDIR  = './nc'  # ncファイルの格納先\n",
    "OUTDIR = './out'   # 中間ファイルの格納先"
   ]
  },
  {
   "cell_type": "markdown",
   "metadata": {},
   "source": [
    "## .ncファイルの読み込みと変換"
   ]
  },
  {
   "cell_type": "code",
   "execution_count": null,
   "metadata": {},
   "outputs": [],
   "source": [
    "# 設定をパスに変換\n",
    "in_path = Path(INDIR)\n",
    "out_path = Path(OUTDIR)\n",
    "\n",
    "# CSV出力先のディレクトリを作成\n",
    "csv_path = out_path.joinpath('SO2/nc4csv00')\n",
    "if not csv_path.exists():\n",
    "    csv_path.mkdir(parents=True)\n",
    "\n",
    "# ncファイルをCSVファイルに変換\n",
    "optkeys = ('sulfurdioxide_total_vertical_column',\n",
    "           'sulfurdioxide_total_vertical_column_precision')\n",
    "for nc_file in in_path.glob('*.nc'):\n",
    "    print('convert:', nc_file)\n",
    "    csv_file = csv_path.joinpath('nc4csv00_'+nc_file.stem+'.csv')\n",
    "    cnc.conv_s5p_csv(nc_file, csv_file, optkeys)\n",
    "\n",
    "print('done')"
   ]
  },
  {
   "cell_type": "markdown",
   "metadata": {},
   "source": [
    "## 空行の削除と値のフィルタリング"
   ]
  },
  {
   "cell_type": "code",
   "execution_count": null,
   "metadata": {},
   "outputs": [],
   "source": [
    "# フィルタリングしたファイルの出力先ディレクトリを作成\n",
    "filtered_csv_path = out_path.joinpath('SO2/nc4csv00_filtered')\n",
    "if not filtered_csv_path.exists():\n",
    "    filtered_csv_path.mkdir(parents=True)\n",
    "\n",
    "# フィルタリング\n",
    "for csv_file in csv_path.glob('*.csv'):\n",
    "    print('filtering: ', csv_file)\n",
    "\n",
    "    # pandasで元のCSVファイルを読み込み\n",
    "    df = pd.read_csv(csv_file)\n",
    "   \n",
    "    # 偶数行は空なので奇数行のみ抽出\n",
    "    df = df[1::2]\n",
    "    \n",
    "    # そのままでは精度が高すぎるため、qa_value 0.75より大きい値を\n",
    "    # 抽出してフィルタリングする\n",
    "    df = df[df['qa_value'] > 0.5]\n",
    "   \n",
    "    # 元のファイル名のsuffixを取り出し（prefixを削除）\n",
    "    suffix = re.sub(r'^.*____', '', csv_file.stem)\n",
    "    # 変換後の出力ファイルパスは、CSV出力先ディレクトリ下にしておく\n",
    "    outfile = filtered_csv_path.joinpath('SO2_out_scr_'+suffix+'.csv')\n",
    "    df.to_csv(outfile)\n",
    "\n",
    "print('done')"
   ]
  },
  {
   "cell_type": "markdown",
   "metadata": {},
   "source": [
    "## 緯度、経度、SO2カラム量の抽出"
   ]
  },
  {
   "cell_type": "code",
   "execution_count": null,
   "metadata": {},
   "outputs": [],
   "source": [
    "lon_total = []\n",
    "lat_total = []\n",
    "SO2_total = []\n",
    "#SO2の単位はDU(Dobson Unit)\n",
    "#DU = 2241.15\n",
    "mol = 6.00214*1.e+4\n",
    "\n",
    "for file in filtered_csv_path.glob('*.csv'):\n",
    "    print('read:', file)\n",
    "    d = np.loadtxt(file, delimiter=',', skiprows=1, unpack=True)\n",
    "    lon = d[2,:]\n",
    "    lat = d[3,:]\n",
    "    SO2 = mol * d[5,:]\n",
    "    lon_total.extend(lon)\n",
    "    lat_total.extend(lat)\n",
    "    SO2_total.extend(SO2)\n",
    "    \n",
    "print('done')"
   ]
  },
  {
   "cell_type": "markdown",
   "metadata": {},
   "source": [
    "## Plotに必要なライブラリのimport"
   ]
  },
  {
   "cell_type": "code",
   "execution_count": null,
   "metadata": {},
   "outputs": [],
   "source": [
    "import matplotlib\n",
    "matplotlib.use('Agg')\n",
    "%matplotlib inline\n",
    "import matplotlib.pyplot as plt\n",
    "from mpl_toolkits.basemap import Basemap"
   ]
  },
  {
   "cell_type": "markdown",
   "metadata": {},
   "source": [
    "## 地図の設定"
   ]
  },
  {
   "cell_type": "code",
   "execution_count": null,
   "metadata": {},
   "outputs": [],
   "source": [
    "# Basemap instanceの作成、緯度経度を西之島に合わせる\n",
    "# 緯度経度の範囲は自分の好きなようにカスタマイズする\n",
    "m = Basemap(projection='merc',\n",
    "            resolution='h',\n",
    "            llcrnrlon=135,\n",
    "            llcrnrlat=25,\n",
    "            urcrnrlon=155,\n",
    "            urcrnrlat=37)"
   ]
  },
  {
   "cell_type": "markdown",
   "metadata": {},
   "source": [
    "## plotとSO2濃度の調整"
   ]
  },
  {
   "cell_type": "code",
   "execution_count": null,
   "metadata": {},
   "outputs": [],
   "source": [
    "plt.figure(figsize=(10,10))\n",
    "plt.title('yyyy/mm/dd')\n",
    "\n",
    "#海岸線を描く\n",
    "m.drawcoastlines()\n",
    "\n",
    "lon, lat = m(lon_total, lat_total)\n",
    "#火山や山火事などSO2が大量に放出する場合vmax=20にするとSO2濃度が鮮明になる\n",
    "im = m.scatter(lon, lat, alpha=0.9, s=1, vmin=0., vmax=2.e+1,\n",
    "               c=SO2_total, edgecolors='none', linewidths=1.5,\n",
    "               cmap=\"jet\")\n",
    "\n",
    "cbar = m.colorbar(im, location='bottom', pad=\"5%\")\n",
    "cbar.set_label('$10^{15}molec/cm^2$')\n",
    "\n",
    "plt.show()"
   ]
  }
 ],
 "metadata": {
  "kernelspec": {
   "display_name": "Python 3",
   "language": "python",
   "name": "python3"
  },
  "language_info": {
   "codemirror_mode": {
    "name": "ipython",
    "version": 3
   },
   "file_extension": ".py",
   "mimetype": "text/x-python",
   "name": "python",
   "nbconvert_exporter": "python",
   "pygments_lexer": "ipython3",
   "version": "3.8.5"
  }
 },
 "nbformat": 4,
 "nbformat_minor": 4
}
