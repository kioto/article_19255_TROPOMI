{
 "cells": [
  {
   "cell_type": "code",
   "execution_count": 42,
   "metadata": {},
   "outputs": [
    {
     "data": {
      "text/plain": [
       "'C:\\\\Users\\\\anaka\\\\OneDrive\\\\ドキュメント\\\\GESDISK'"
      ]
     },
     "execution_count": 42,
     "metadata": {},
     "output_type": "execute_result"
    }
   ],
   "source": [
    "pwd"
   ]
  },
  {
   "cell_type": "code",
   "execution_count": 1,
   "metadata": {},
   "outputs": [
    {
     "name": "stdout",
     "output_type": "stream",
     "text": [
      "Using matplotlib backend: Qt5Agg\n"
     ]
    },
    {
     "data": {
      "text/plain": [
       "<matplotlib.collections.LineCollection at 0x23da03cddf0>"
      ]
     },
     "execution_count": 1,
     "metadata": {},
     "output_type": "execute_result"
    }
   ],
   "source": [
    "#Plotに必要なライブラリのimport\n",
    "import matplotlib.pyplot as plt\n",
    "%matplotlib \n",
    "import numpy as np\n",
    "import glob\n",
    "import os \n",
    "os.environ[\"PROJ_LIB\"] = \"C:/Users/anaka/anaconda3/pkgs/proj-7.1.0-h7d85306_1/Library/share\"; \n",
    "from mpl_toolkits.basemap import Basemap, cm\n",
    "fig = plt.figure(figsize=(10,10))\n",
    "#plt.title('2020/00/00')\n",
    "\n",
    "#Basemap instanceの作成、緯度経度を西之島に合わせる\n",
    "#緯度経度はあえて広く取っているので、ここは自分の好きなようにカスタマイズする\n",
    "m = Basemap(projection='merc',\n",
    "resolution='h',\n",
    "llcrnrlon=135,\n",
    "llcrnrlat=25,\n",
    "urcrnrlon=155,\n",
    "urcrnrlat=37)\n",
    "\n",
    "\n",
    "#海岸線を描く\n",
    "m.drawcoastlines()\n"
   ]
  },
  {
   "cell_type": "code",
   "execution_count": 6,
   "metadata": {},
   "outputs": [],
   "source": [
    "Dir = 'D:/Nishinoshima/SO2csv/temporarily/'        \n",
    "files = glob.glob(Dir + '/*.csv'); files.sort()\n",
    "lon_total = []\n",
    "lat_total = []\n",
    "SO2_total = []\n",
    "#SO2の単位はDU(Dobson Unit)\n",
    "#DU = 2241.15\n",
    "mol = 6.00214*1.e+4\n",
    "for file in files:\n",
    "    d = np.loadtxt(file,delimiter=',',skiprows=1, unpack=True)\n",
    "    lon = d[2,:]\n",
    "    lat = d[3,:]\n",
    "    SO2 = mol*d[5,:]\n",
    "    lon_total.extend(lon)\n",
    "    lat_total.extend(lat)\n",
    "    SO2_total.extend(SO2)"
   ]
  },
  {
   "cell_type": "code",
   "execution_count": 7,
   "metadata": {},
   "outputs": [],
   "source": [
    "lon, lat = m(lon_total, lat_total)\n",
    "\n",
    "#火山や山火事などSO2が大量に放出する場合vmax=20にするとSO2濃度が鮮明になる\n",
    "im=m.scatter(lon,lat,alpha=0.9,s=1,vmin=0.,vmax=2.e+1,\n",
    "c=SO2_total, edgecolors='none', linewidths=1.5,cmap=\"jet\")\n",
    "\n",
    "cbar = m.colorbar(im,location='bottom',pad=\"5%\")\n",
    "cbar.set_label('$10^{15}molec/cm^2$')\n",
    "\n",
    "plt.show()"
   ]
  },
  {
   "cell_type": "code",
   "execution_count": null,
   "metadata": {},
   "outputs": [],
   "source": []
  },
  {
   "cell_type": "code",
   "execution_count": null,
   "metadata": {},
   "outputs": [],
   "source": []
  }
 ],
 "metadata": {
  "kernelspec": {
   "display_name": "Python 3",
   "language": "python",
   "name": "python3"
  },
  "language_info": {
   "codemirror_mode": {
    "name": "ipython",
    "version": 3
   },
   "file_extension": ".py",
   "mimetype": "text/x-python",
   "name": "python",
   "nbconvert_exporter": "python",
   "pygments_lexer": "ipython3",
   "version": "3.8.8"
  }
 },
 "nbformat": 4,
 "nbformat_minor": 4
}
