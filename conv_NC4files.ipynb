{
 "cells": [
  {
   "cell_type": "code",
   "execution_count": 1,
   "id": "genuine-smoke",
   "metadata": {},
   "outputs": [],
   "source": [
    "import numpy as np\n",
    "import netCDF4 as nc\n",
    "import csv"
   ]
  },
  {
   "cell_type": "code",
   "execution_count": null,
   "id": "passing-morrison",
   "metadata": {},
   "outputs": [],
   "source": [
    "def conv_s5p_csv(infile, outfile, optkeys):\n",
    "    #Load nc file\n",
    "    nc0  = nc.Dataset(infile, 'r')\n",
    "    nc0v = nc0['PRODUCT'].variables\n",
    "    dict0 = {}\n",
    "    dict0['longitude' ] = nc0v['longitude'][:]\n",
    "    dict0['latitude' ]  = nc0v['latitude'][:]\n",
    "    dict0['time_sec']   = nc0v['time'][:] + nc0v['delta_time'][:]*0.001\n",
    "    dict0['qa_value' ]  = nc0v['qa_value'][:]\n",
    "    for i in range(len(optkeys)):\n",
    "        dict0[optkeys[i]] = nc0v[optkeys[i]][:]\n",
    "    \n",
    "    nc0.close()\n",
    "    \n",
    "    ntime, nsl, ngp = dict0['qa_value'].shape\n",
    "    time1 = np.zeros(dict0['qa_value'].shape)\n",
    "    for i in range(ntime):\n",
    "        for j in range(nsl):\n",
    "            time1[i,j,:] = dict0['time_sec'][i,j]\n",
    "    \n",
    "    mask  = dict0[optkeys[0]].mask\n",
    "    dict1 = {}\n",
    "    dict1['longitude' ] = dict0['longitude'][~mask]\n",
    "    dict1['latitude' ] = dict0['latitude'][~mask]\n",
    "    dict1['time_sec'] = time1[~mask]\n",
    "    dict1['qa_value' ] = dict0['qa_value'][~mask]\n",
    "    for i in range(len(optkeys)):\n",
    "        dict1[optkeys[i]] = dict0[optkeys[i]][~mask]\n",
    "    \n",
    "    nsize = dict1['qa_value'].size\n",
    "    with open(outfile, 'w') as csv_file:\n",
    "        #Set Header\n",
    "        fieldnames = ['time_sec', 'longitude', 'latitude', 'qa_value']\n",
    "        fieldnames.extend(optkeys)\n",
    "        writer = csv.DictWriter(csv_file, fieldnames=fieldnames)\n",
    "        writer.writeheader()\n",
    "        #Write data\n",
    "        for i in range(nsize):\n",
    "            dict_tmp = {}\n",
    "            dict_tmp['time_sec' ] = dict1['time_sec' ][i]\n",
    "            dict_tmp['longitude'] = dict1['longitude'][i]\n",
    "            dict_tmp['latitude' ] = dict1['latitude' ][i]\n",
    "            dict_tmp['qa_value' ] = dict1['qa_value' ][i]\n",
    "            for j in range(len(optkeys)):\n",
    "                dict_tmp[optkeys[j]] = dict1[optkeys[j]][i]\n",
    "            #\n",
    "            writer.writerow(dict_tmp)\n",
    "            \n",
    "            "
   ]
  }
 ],
 "metadata": {
  "kernelspec": {
   "display_name": "Python 3",
   "language": "python",
   "name": "python3"
  },
  "language_info": {
   "codemirror_mode": {
    "name": "ipython",
    "version": 3
   },
   "file_extension": ".py",
   "mimetype": "text/x-python",
   "name": "python",
   "nbconvert_exporter": "python",
   "pygments_lexer": "ipython3",
   "version": "3.8.8"
  }
 },
 "nbformat": 4,
 "nbformat_minor": 5
}
