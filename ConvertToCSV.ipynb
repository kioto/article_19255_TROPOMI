{
 "cells": [
  {
   "cell_type": "code",
   "execution_count": 11,
   "metadata": {},
   "outputs": [
    {
     "data": {
      "text/plain": [
       "'C:\\\\Users\\\\anaka\\\\OneDrive\\\\ドキュメント\\\\GESDISK\\\\SO2'"
      ]
     },
     "execution_count": 11,
     "metadata": {},
     "output_type": "execute_result"
    }
   ],
   "source": [
    "pwd"
   ]
  },
  {
   "cell_type": "code",
   "execution_count": 4,
   "metadata": {},
   "outputs": [],
   "source": [
    "import numpy as np\n",
    "import pylab as plt\n",
    "import matplotlib as mpl\n",
    "import datetime as dt\n",
    "import copy\n",
    "import glob\n",
    "import csv\n",
    "import os\n",
    "import netCDF4 as nc\n",
    "import conv_NC4files as cnc\n",
    "import pandas as pd"
   ]
  },
  {
   "cell_type": "code",
   "execution_count": 7,
   "metadata": {},
   "outputs": [],
   "source": [
    "infile = 'D:/Nishinoshima/SO2_nc/S5P_OFFL_L2__SO2____20200101T023416_20200101T041546_11488_01_010107_20200103T041459.nc'\n",
    "\n",
    "# Load ncfile\n",
    "nc0  = nc.Dataset(infile, 'r', encoding='SHIFT_JIS')\n",
    "nc0v = nc0['PRODUCT'].variables\n",
    "\n",
    "#Conversion nc -> csv-----------------------------------------------\n",
    "#Set directories\n",
    "indir  = 'D:/Nishinoshima/SO2_nc/'\n",
    "outdir = 'D:/OUT/'\n",
    "outdir1 = outdir + 'SO2/nc4csv00/'\n",
    "\n",
    "if not os.path.exists(outdir1):\n",
    "    os.makedirs(outdir1)\n",
    "\n",
    "flist  = glob.glob(indir + 'S5P_OFFL_L2__SO2____*')\n",
    "flist.sort()"
   ]
  },
  {
   "cell_type": "code",
   "execution_count": 8,
   "metadata": {},
   "outputs": [],
   "source": [
    "#Run conversion\n",
    "optkeys = ['sulfurdioxide_total_vertical_column', 'sulfurdioxide_total_vertical_column_precision']\n",
    "for infile in flist:\n",
    "    fname   = infile.split('\\\\')[-1].split('.nc')[0]\n",
    "    outfile = outdir1+'nc4csv00_'+fname+'.csv'\n",
    "    cnc.conv_s5p_csv(infile, outfile, optkeys)"
   ]
  },
  {
   "cell_type": "code",
   "execution_count": 9,
   "metadata": {},
   "outputs": [],
   "source": [
    "#ncファイルからcsvに変換後ファイル内の空行削除\n",
    "#qa_valueの値をフィルタリングし、精度の高いものだけ抽出\n",
    "\n",
    "for file in glob.glob(outdir1 +'nc4csv00_S5P_OFFL_L2__SO2____*'):\n",
    "  \n",
    "    df = pd.read_csv(file)\n",
    "   \n",
    "    #偶数行は空なので奇数行のみ抽出\n",
    "    df = df[1::2]\n",
    "    \n",
    "    #qa_value 0.75より大きい値を抽出。精度が高いため。\n",
    "    df = df[df['qa_value'] > 0.5]\n",
    "   \n",
    "   \n",
    "    file = file.split('nc4csv00_S5P_OFFL_L2__SO2____')[-1]\n",
    "   \n",
    "    outfile ='D:/Nishinoshima/SO2csv/' + 'SO2_out_scr_' + file \n",
    "  \n",
    "    df.to_csv(outfile)"
   ]
  },
  {
   "cell_type": "code",
   "execution_count": null,
   "metadata": {},
   "outputs": [],
   "source": []
  }
 ],
 "metadata": {
  "kernelspec": {
   "display_name": "Python 3",
   "language": "python",
   "name": "python3"
  },
  "language_info": {
   "codemirror_mode": {
    "name": "ipython",
    "version": 3
   },
   "file_extension": ".py",
   "mimetype": "text/x-python",
   "name": "python",
   "nbconvert_exporter": "python",
   "pygments_lexer": "ipython3",
   "version": "3.8.8"
  }
 },
 "nbformat": 4,
 "nbformat_minor": 4
}
