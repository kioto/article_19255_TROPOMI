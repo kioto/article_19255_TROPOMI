{
 "cells": [
  {
   "cell_type": "markdown",
   "metadata": {},
   "source": [
    "## 必要なライブラリのimport"
   ]
  },
  {
   "cell_type": "code",
   "execution_count": 4,
   "metadata": {},
   "outputs": [],
   "source": [
    "import numpy as np\n",
    "import pylab as plt\n",
    "import matplotlib as mpl\n",
    "import glob\n",
    "import csv\n",
    "import os\n",
    "import netCDF4 as nc\n",
    "import conv_NC4files as cnc\n",
    "import pandas as pd"
   ]
  },
  {
   "cell_type": "markdown",
   "metadata": {},
   "source": [
    "## .ncファイルの読み込みと変換"
   ]
  },
  {
   "cell_type": "code",
   "execution_count": 7,
   "metadata": {},
   "outputs": [],
   "source": [
    "infile = '.nc保存先のPATH（任意）/.ncファイル名'\n",
    "\n",
    "#ncファイルの読み込み\n",
    "nc0  = nc.Dataset(infile, 'r', encoding='SHIFT_JIS')\n",
    "nc0v = nc0['PRODUCT'].variables\n",
    "\n",
    "#ncファイル -> csvファイルへ-----------------------------------------------\n",
    "\n",
    "indir  = '.nc保存先のPATH（任意）'\n",
    "outdir = '.csvに変換後の出力先のPATH（任意）'\n",
    "outdir1 = outdir + 'SO2/nc4csv00/'\n",
    "\n",
    "if not os.path.exists(outdir1):\n",
    "    os.makedirs(outdir1)\n",
    "\n",
    "flist  = glob.glob(indir + 'S5P_OFFL_L2__SO2____*')\n",
    "flist.sort()"
   ]
  },
  {
   "cell_type": "code",
   "execution_count": 8,
   "metadata": {},
   "outputs": [],
   "source": [
    "#Run conversion\n",
    "optkeys = ['sulfurdioxide_total_vertical_column', 'sulfurdioxide_total_vertical_column_precision']\n",
    "for infile in flist:\n",
    "    fname   = infile.split('\\\\')[-1].split('.nc')[0]\n",
    "    outfile = outdir1+'nc4csv00_'+fname+'.csv'\n",
    "    cnc.conv_s5p_csv(infile, outfile, optkeys)"
   ]
  },
  {
   "cell_type": "markdown",
   "metadata": {},
   "source": [
    "## 空行の削除と値のフィルタリング"
   ]
  },
  {
   "cell_type": "code",
   "execution_count": 9,
   "metadata": {},
   "outputs": [],
   "source": [
    "for file in glob.glob(outdir1 +'nc4csv00_S5P_OFFL_L2__SO2____*'):\n",
    "  　 df = pd.read_csv(file)\n",
    "   \n",
    "    #偶数行は空なので奇数行のみ抽出\n",
    "    df = df[1::2]\n",
    "    \n",
    "    #qa_value 0.75より大きい値を抽出。精度が高いため。\n",
    "    df = df[df['qa_value'] > 0.5]\n",
    "   \n",
    "   \n",
    "    file = file.split('nc4csv00_S5P_OFFL_L2__SO2____')[-1]\n",
    "   \n",
    "    outfile ='フィルタリング後任意の出力先PATH' + 'SO2_out_scr_' + file \n",
    "  \n",
    "    df.to_csv(outfile)"
   ]
  },
  {
   "cell_type": "markdown",
   "metadata": {},
   "source": [
    "## Plotに必要なライブラリのimport"
   ]
  },
  {
   "cell_type": "code",
   "execution_count": null,
   "metadata": {},
   "outputs": [],
   "source": [
    "import matplotlib.pyplot as plt\n",
    "%matplotlib \n",
    "import numpy as np\n",
    "import glob\n",
    "import os \n",
    "os.environ[\"PROJ_LIB\"] = \"C:/Users/ユーザー名/anaconda3/pkgs/proj-7.1.0-h7d85306_1/Library/share\"; \n",
    "from mpl_toolkits.basemap import Basemap, cm\n",
    "fig = plt.figure(figsize=(10,10))\n",
    "#plt.title('yyyy/mm/dd')\n",
    "\n",
    "#Basemap instanceの作成、緯度経度を西之島に合わせる\n",
    "#緯度経度の範囲は自分の好きなようにカスタマイズする\n",
    "m = Basemap(projection='merc',\n",
    "resolution='h',\n",
    "llcrnrlon=135,\n",
    "llcrnrlat=25,\n",
    "urcrnrlon=155,\n",
    "urcrnrlat=37)\n",
    "\n",
    "\n",
    "#海岸線を描く\n",
    "m.drawcoastlines()\n"
   ]
  },
  {
   "cell_type": "markdown",
   "metadata": {},
   "source": [
    "## 緯度、経度、SO2カラム量の抽出"
   ]
  },
  {
   "cell_type": "code",
   "execution_count": null,
   "metadata": {},
   "outputs": [],
   "source": [
    "Dir = 'フィルタリング後の.csv出力のPATH'        \n",
    "files = glob.glob(Dir + '/*.csv'); files.sort()\n",
    "lon_total = []\n",
    "lat_total = []\n",
    "SO2_total = []\n",
    "#SO2の単位はDU(Dobson Unit)\n",
    "#DU = 2241.15\n",
    "mol = 6.00214*1.e+4\n",
    "for file in files:\n",
    "    d = np.loadtxt(file,delimiter=',',skiprows=1, unpack=True)\n",
    "    lon = d[2,:]\n",
    "    lat = d[3,:]\n",
    "    SO2 = mol*d[5,:]\n",
    "    lon_total.extend(lon)\n",
    "    lat_total.extend(lat)\n",
    "    SO2_total.extend(SO2)"
   ]
  },
  {
   "cell_type": "markdown",
   "metadata": {},
   "source": [
    "## SO2濃度の調整など"
   ]
  },
  {
   "cell_type": "code",
   "execution_count": null,
   "metadata": {},
   "outputs": [],
   "source": [
    "lon, lat = m(lon_total, lat_total)\n",
    "\n",
    "#火山や山火事などSO2が大量に放出する場合vmax=20にするとSO2濃度が鮮明になる\n",
    "im=m.scatter(lon,lat,alpha=0.9,s=1,vmin=0.,vmax=2.e+1,\n",
    "c=SO2_total, edgecolors='none', linewidths=1.5,cmap=\"jet\")\n",
    "\n",
    "cbar = m.colorbar(im,location='bottom',pad=\"5%\")\n",
    "cbar.set_label('$10^{15}molec/cm^2$')\n",
    "\n",
    "plt.show()"
   ]
  }
 ],
 "metadata": {
  "kernelspec": {
   "display_name": "Python 3",
   "language": "python",
   "name": "python3"
  },
  "language_info": {
   "codemirror_mode": {
    "name": "ipython",
    "version": 3
   },
   "file_extension": ".py",
   "mimetype": "text/x-python",
   "name": "python",
   "nbconvert_exporter": "python",
   "pygments_lexer": "ipython3",
   "version": "3.8.8"
  }
 },
 "nbformat": 4,
 "nbformat_minor": 4
}
